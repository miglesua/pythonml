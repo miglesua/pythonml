{
 "cells": [
  {
   "cell_type": "code",
   "execution_count": 3,
   "metadata": {},
   "outputs": [],
   "source": [
    "import numpy as np\n",
    "\n",
    "\n",
    "fleet_data = np.array([\n",
    "    [120, 40, 25, 2.5, 10],\n",
    "    [85, 60, 30, 5.0, 5],\n",
    "    [100, 50, 35, 4.5, 7],\n",
    "    [120, 40, 25, 2.5, 9],\n",
    "    [150, 50, 30, 3.0, 10],\n",
    "], dtype=np.float32)"
   ]
  },
  {
   "cell_type": "markdown",
   "metadata": {},
   "source": [
    "Calculate and print the total number of spaceships."
   ]
  },
  {
   "cell_type": "code",
   "execution_count": 4,
   "metadata": {},
   "outputs": [
    {
     "data": {
      "text/plain": [
       "'Number of ships in the fleet: 5'"
      ]
     },
     "execution_count": 4,
     "metadata": {},
     "output_type": "execute_result"
    }
   ],
   "source": [
    "ship_lengths = fleet_lenght = fleet_data.shape[0]\n",
    "f\"Number of ships in the fleet: {fleet_lenght}\""
   ]
  },
  {
   "cell_type": "markdown",
   "metadata": {},
   "source": [
    "Calculate and print the average spaceship size (volume)."
   ]
  },
  {
   "cell_type": "code",
   "execution_count": 5,
   "metadata": {},
   "outputs": [
    {
     "name": "stdout",
     "output_type": "stream",
     "text": [
      "Lengths: [120.  85. 100. 120. 150.]\n",
      "Widths: [40. 60. 50. 40. 50.]\n",
      "Heights: [25. 30. 35. 25. 30.]\n"
     ]
    }
   ],
   "source": [
    "ship_lengths = fleet_data[:, 0]\n",
    "ship_widths = fleet_data[:, 1]\n",
    "ship_heigths = fleet_data[:, 2]\n",
    "\n",
    "print(f\"Lengths: {ship_lengths}\")\n",
    "print(f\"Widths: {ship_widths}\")\n",
    "print(f\"Heights: {ship_heigths}\")"
   ]
  },
  {
   "cell_type": "code",
   "execution_count": 6,
   "metadata": {},
   "outputs": [
    {
     "data": {
      "text/plain": [
       "array([120000., 153000., 175000., 120000., 225000.], dtype=float32)"
      ]
     },
     "execution_count": 6,
     "metadata": {},
     "output_type": "execute_result"
    }
   ],
   "source": [
    "ships_volumes = ship_lengths*ship_widths*ship_heigths\n",
    "ships_volumes"
   ]
  },
  {
   "cell_type": "code",
   "execution_count": 7,
   "metadata": {},
   "outputs": [
    {
     "data": {
      "text/plain": [
       "'Mean volume of the ships: 158600.0 m3'"
      ]
     },
     "execution_count": 7,
     "metadata": {},
     "output_type": "execute_result"
    }
   ],
   "source": [
    "ships_mean_volume = ships_volumes.mean()\n",
    "f\"Mean volume of the ships: {ships_mean_volume} m3\""
   ]
  },
  {
   "cell_type": "markdown",
   "metadata": {},
   "source": [
    "Identify and print the speed of the fastest spaceship."
   ]
  },
  {
   "cell_type": "code",
   "execution_count": 8,
   "metadata": {},
   "outputs": [
    {
     "name": "stdout",
     "output_type": "stream",
     "text": [
      "Speed: [2.5 5.  4.5 2.5 3. ]\n"
     ]
    },
    {
     "data": {
      "text/plain": [
       "'The fastest ship (1) travels at 5.0 km/s'"
      ]
     },
     "execution_count": 8,
     "metadata": {},
     "output_type": "execute_result"
    }
   ],
   "source": [
    "ship_speed = fleet_data[:, 3]\n",
    "\n",
    "print(f\"Speed: {ship_speed}\")\n",
    "max_speed = ship_speed.max()\n",
    "ship_max_speed = np.argmax(ship_speed)\n",
    "f\"The fastest ship ({ship_max_speed}) travels at {max_speed} km/s\""
   ]
  },
  {
   "cell_type": "code",
   "execution_count": 9,
   "metadata": {},
   "outputs": [
    {
     "data": {
      "text/plain": [
       "<function argmax at 0x7fb0305e8530>"
      ]
     },
     "execution_count": 9,
     "metadata": {},
     "output_type": "execute_result"
    }
   ],
   "source": [
    "np.argmax"
   ]
  },
  {
   "cell_type": "markdown",
   "metadata": {},
   "source": [
    "Determine and print the number of spaceships with the maximum weapon power.\n"
   ]
  },
  {
   "cell_type": "code",
   "execution_count": 21,
   "metadata": {},
   "outputs": [
    {
     "data": {
      "text/plain": [
       "'The number of ships with max power is 2'"
      ]
     },
     "execution_count": 21,
     "metadata": {},
     "output_type": "execute_result"
    }
   ],
   "source": [
    "ship_weapon_power = fleet_data[:, 4]\n",
    "ships_with_max_power_mask = ship_weapon_power == 10\n",
    "n_ships_max_power = ships_with_max_power_mask.sum()\n",
    "\n",
    "f\"The number of ships with max power is {n_ships_max_power}\""
   ]
  },
  {
   "cell_type": "markdown",
   "metadata": {},
   "source": [
    "Find and print the mean speed of spaceships with the maximum weapon power."
   ]
  },
  {
   "cell_type": "code",
   "execution_count": 25,
   "metadata": {},
   "outputs": [
    {
     "data": {
      "text/plain": [
       "(array([2.5, 5. , 4.5, 2.5, 3. ], dtype=float32),\n",
       " array([ True, False, False, False,  True]))"
      ]
     },
     "execution_count": 25,
     "metadata": {},
     "output_type": "execute_result"
    }
   ],
   "source": [
    "ship_speed, ships_with_max_power_mask"
   ]
  },
  {
   "cell_type": "code",
   "execution_count": 27,
   "metadata": {},
   "outputs": [
    {
     "data": {
      "text/plain": [
       "2.75"
      ]
     },
     "execution_count": 27,
     "metadata": {},
     "output_type": "execute_result"
    }
   ],
   "source": [
    "ship_speed[ships_with_max_power_mask].mean()"
   ]
  }
 ],
 "metadata": {
  "kernelspec": {
   "display_name": "Python 3",
   "language": "python",
   "name": "python3"
  },
  "language_info": {
   "codemirror_mode": {
    "name": "ipython",
    "version": 3
   },
   "file_extension": ".py",
   "mimetype": "text/x-python",
   "name": "python",
   "nbconvert_exporter": "python",
   "pygments_lexer": "ipython3",
   "version": "3.9.17"
  },
  "orig_nbformat": 4
 },
 "nbformat": 4,
 "nbformat_minor": 2
}
