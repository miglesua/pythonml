{
 "cells": [
  {
   "cell_type": "markdown",
   "metadata": {},
   "source": [
    "# 🦄 The Fantasy Zookeeper\n",
    "\n",
    "**Scenario:**\n",
    "\n",
    "Congratulations! You've been hired as a data analyst at Fantasy Zoo, the world's first zoo for mythical creatures. Your job is to analyze the data of the mythical creatures living at the zoo and provide insights to help improve their wellbeing.\n",
    "\n",
    "You've been given a **dataset** containing the following columns:\n",
    "* `creature_name`: Name of the creature\n",
    "* `creature_type`: Type of the creature (e.g., dragon, unicorn, etc.)\n",
    "* `age`: Age of the creature (in years)\n",
    "* `health_status`: Health status of the creature (Excellent, Good, Fair, Poor)\n",
    "* `magical_ability_score`: Score representing the creature's magical ability (0-100)\n",
    "\n",
    "**Exercise:**\n",
    "\n",
    "In order to organize the animals into different habitats, you've been asked to answer the fsome questions regarding this dataset:"
   ]
  },
  {
   "cell_type": "code",
   "execution_count": 7,
   "metadata": {},
   "outputs": [],
   "source": [
    "import pandas as pd\n",
    "import numpy as np\n",
    "import random\n",
    "\n",
    "random.seed(42)\n",
    "np.random.seed(42)\n",
    "\n",
    "# Define the number of creatures\n",
    "num_creatures = 100\n",
    "\n",
    "# Define the creature types\n",
    "creature_types = ['Dragon', 'Unicorn', 'Griffin', 'Phoenix', 'Mermaid', 'Centaur']\n",
    "\n",
    "# Generate random data\n",
    "data = {\n",
    "    'creature_name': ['Creature' + str(i) for i in range(num_creatures)],\n",
    "    'creature_type': np.random.choice(creature_types, num_creatures),\n",
    "    'age': np.random.randint(1, 1000, num_creatures),\n",
    "    'health_status': np.random.choice(['Excellent', 'Good', 'Fair', 'Poor'], num_creatures),\n",
    "    'magical_ability_score': np.random.randint(0, 101, num_creatures)\n",
    "}\n",
    "\n",
    "# Create a DataFrame\n",
    "df = pd.DataFrame(data)"
   ]
  },
  {
   "cell_type": "markdown",
   "metadata": {},
   "source": [
    "1. Display the first 5 rows of the dataframe."
   ]
  },
  {
   "cell_type": "code",
   "execution_count": 8,
   "metadata": {},
   "outputs": [
    {
     "data": {
      "text/html": [
       "<div>\n",
       "<style scoped>\n",
       "    .dataframe tbody tr th:only-of-type {\n",
       "        vertical-align: middle;\n",
       "    }\n",
       "\n",
       "    .dataframe tbody tr th {\n",
       "        vertical-align: top;\n",
       "    }\n",
       "\n",
       "    .dataframe thead th {\n",
       "        text-align: right;\n",
       "    }\n",
       "</style>\n",
       "<table border=\"1\" class=\"dataframe\">\n",
       "  <thead>\n",
       "    <tr style=\"text-align: right;\">\n",
       "      <th></th>\n",
       "      <th>creature_name</th>\n",
       "      <th>creature_type</th>\n",
       "      <th>age</th>\n",
       "      <th>health_status</th>\n",
       "      <th>magical_ability_score</th>\n",
       "    </tr>\n",
       "  </thead>\n",
       "  <tbody>\n",
       "    <tr>\n",
       "      <th>0</th>\n",
       "      <td>Creature0</td>\n",
       "      <td>Phoenix</td>\n",
       "      <td>15</td>\n",
       "      <td>Fair</td>\n",
       "      <td>19</td>\n",
       "    </tr>\n",
       "    <tr>\n",
       "      <th>1</th>\n",
       "      <td>Creature1</td>\n",
       "      <td>Mermaid</td>\n",
       "      <td>813</td>\n",
       "      <td>Poor</td>\n",
       "      <td>58</td>\n",
       "    </tr>\n",
       "    <tr>\n",
       "      <th>2</th>\n",
       "      <td>Creature2</td>\n",
       "      <td>Griffin</td>\n",
       "      <td>65</td>\n",
       "      <td>Good</td>\n",
       "      <td>35</td>\n",
       "    </tr>\n",
       "    <tr>\n",
       "      <th>3</th>\n",
       "      <td>Creature3</td>\n",
       "      <td>Mermaid</td>\n",
       "      <td>857</td>\n",
       "      <td>Fair</td>\n",
       "      <td>18</td>\n",
       "    </tr>\n",
       "    <tr>\n",
       "      <th>4</th>\n",
       "      <td>Creature4</td>\n",
       "      <td>Mermaid</td>\n",
       "      <td>839</td>\n",
       "      <td>Poor</td>\n",
       "      <td>89</td>\n",
       "    </tr>\n",
       "  </tbody>\n",
       "</table>\n",
       "</div>"
      ],
      "text/plain": [
       "  creature_name creature_type  age health_status  magical_ability_score\n",
       "0     Creature0       Phoenix   15          Fair                     19\n",
       "1     Creature1       Mermaid  813          Poor                     58\n",
       "2     Creature2       Griffin   65          Good                     35\n",
       "3     Creature3       Mermaid  857          Fair                     18\n",
       "4     Creature4       Mermaid  839          Poor                     89"
      ]
     },
     "execution_count": 8,
     "metadata": {},
     "output_type": "execute_result"
    }
   ],
   "source": [
    "df.head()"
   ]
  },
  {
   "cell_type": "markdown",
   "metadata": {},
   "source": [
    "2. Calculate and print the total number of creatures in the zoo."
   ]
  },
  {
   "cell_type": "code",
   "execution_count": 15,
   "metadata": {},
   "outputs": [
    {
     "data": {
      "text/plain": [
       "19"
      ]
     },
     "execution_count": 15,
     "metadata": {},
     "output_type": "execute_result"
    }
   ],
   "source": [
    "unicorn_mask = df[\"creature_type\"] == \"Unicorn\"\n",
    "unicorn_df = df[unicorn_mask]\n",
    "len(unicorn_df)"
   ]
  },
  {
   "cell_type": "code",
   "execution_count": 18,
   "metadata": {},
   "outputs": [
    {
     "data": {
      "text/plain": [
       "creature_type\n",
       "Phoenix    25\n",
       "Unicorn    19\n",
       "Mermaid    17\n",
       "Centaur    17\n",
       "Griffin    11\n",
       "Dragon     11\n",
       "Name: count, dtype: int64"
      ]
     },
     "execution_count": 18,
     "metadata": {},
     "output_type": "execute_result"
    }
   ],
   "source": [
    "df[\"creature_type\"].value_counts()"
   ]
  },
  {
   "cell_type": "markdown",
   "metadata": {},
   "source": [
    "3. Calculate and print the average age of the creatures."
   ]
  },
  {
   "cell_type": "code",
   "execution_count": 19,
   "metadata": {},
   "outputs": [
    {
     "data": {
      "text/plain": [
       "517.97"
      ]
     },
     "execution_count": 19,
     "metadata": {},
     "output_type": "execute_result"
    }
   ],
   "source": [
    "avg_age = df[\"age\"].mean()\n",
    "avg_age"
   ]
  },
  {
   "cell_type": "code",
   "execution_count": 21,
   "metadata": {},
   "outputs": [
    {
     "data": {
      "text/plain": [
       "creature_type\n",
       "Centaur    442.588235\n",
       "Dragon     727.545455\n",
       "Griffin    348.818182\n",
       "Mermaid    692.058824\n",
       "Phoenix    458.000000\n",
       "Unicorn    485.157895\n",
       "Name: age, dtype: float64"
      ]
     },
     "execution_count": 21,
     "metadata": {},
     "output_type": "execute_result"
    }
   ],
   "source": [
    "df.groupby(\"creature_type\")[\"age\"].mean()"
   ]
  },
  {
   "cell_type": "markdown",
   "metadata": {},
   "source": [
    "4. Find and print the name of the oldest creature."
   ]
  },
  {
   "cell_type": "code",
   "execution_count": 26,
   "metadata": {},
   "outputs": [
    {
     "data": {
      "text/plain": [
       "'Creature40'"
      ]
     },
     "execution_count": 26,
     "metadata": {},
     "output_type": "execute_result"
    }
   ],
   "source": [
    "max_age = df[\"age\"].max()\n",
    "max_age_index = np.argmax(df[\"age\"])\n",
    "df.iloc[max_age_index, 0]"
   ]
  },
  {
   "cell_type": "markdown",
   "metadata": {},
   "source": [
    "5. Identify and print the most common type of creature."
   ]
  },
  {
   "cell_type": "code",
   "execution_count": null,
   "metadata": {},
   "outputs": [],
   "source": []
  },
  {
   "cell_type": "markdown",
   "metadata": {},
   "source": [
    "6. Find and print the average magical ability score for each type of creature."
   ]
  },
  {
   "cell_type": "code",
   "execution_count": null,
   "metadata": {},
   "outputs": [],
   "source": []
  },
  {
   "cell_type": "markdown",
   "metadata": {},
   "source": [
    "7. Find the names of creatures who have a 'Poor' health status."
   ]
  },
  {
   "cell_type": "code",
   "execution_count": null,
   "metadata": {},
   "outputs": [],
   "source": []
  },
  {
   "cell_type": "markdown",
   "metadata": {},
   "source": [
    "Remember, the happiness of the mythical creatures is in your hands. Happy analyzing! 💪"
   ]
  }
 ],
 "metadata": {
  "kernelspec": {
   "display_name": "Python 3",
   "language": "python",
   "name": "python3"
  },
  "language_info": {
   "codemirror_mode": {
    "name": "ipython",
    "version": 3
   },
   "file_extension": ".py",
   "mimetype": "text/x-python",
   "name": "python",
   "nbconvert_exporter": "python",
   "pygments_lexer": "ipython3",
   "version": "3.9.17"
  },
  "orig_nbformat": 4
 },
 "nbformat": 4,
 "nbformat_minor": 2
}
